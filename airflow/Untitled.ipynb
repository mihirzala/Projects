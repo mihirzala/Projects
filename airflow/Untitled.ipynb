{
 "cells": [
  {
   "cell_type": "code",
   "execution_count": 4,
   "id": "b1dbebdb",
   "metadata": {},
   "outputs": [],
   "source": [
    "my = [2,'apple',3.5]\n",
    "my[1]='orange'"
   ]
  },
  {
   "cell_type": "code",
   "execution_count": 5,
   "id": "a7e31ccb",
   "metadata": {},
   "outputs": [
    {
     "data": {
      "text/plain": [
       "[2, 'orange', 3.5]"
      ]
     },
     "execution_count": 5,
     "metadata": {},
     "output_type": "execute_result"
    }
   ],
   "source": [
    "my"
   ]
  },
  {
   "cell_type": "code",
   "execution_count": 7,
   "id": "b0c287dd",
   "metadata": {},
   "outputs": [
    {
     "data": {
      "text/plain": [
       "4"
      ]
     },
     "execution_count": 7,
     "metadata": {},
     "output_type": "execute_result"
    }
   ],
   "source": [
    "y = \"stuff;thing;junk;\"\n",
    "z = y.split(';')\n",
    "len(z)"
   ]
  },
  {
   "cell_type": "code",
   "execution_count": 8,
   "id": "39e8fa6c",
   "metadata": {},
   "outputs": [
    {
     "data": {
      "text/plain": [
       "True"
      ]
     },
     "execution_count": 8,
     "metadata": {},
     "output_type": "execute_result"
    }
   ],
   "source": [
    "5 != 6"
   ]
  },
  {
   "cell_type": "code",
   "execution_count": 9,
   "id": "1564ef89",
   "metadata": {},
   "outputs": [
    {
     "data": {
      "text/plain": [
       "3"
      ]
     },
     "execution_count": 9,
     "metadata": {},
     "output_type": "execute_result"
    }
   ],
   "source": [
    "num = [1,2,3,4]\n",
    "num[-2]"
   ]
  },
  {
   "cell_type": "code",
   "execution_count": null,
   "id": "7ac93791",
   "metadata": {},
   "outputs": [],
   "source": []
  }
 ],
 "metadata": {
  "kernelspec": {
   "display_name": "Python 3 (ipykernel)",
   "language": "python",
   "name": "python3"
  },
  "language_info": {
   "codemirror_mode": {
    "name": "ipython",
    "version": 3
   },
   "file_extension": ".py",
   "mimetype": "text/x-python",
   "name": "python",
   "nbconvert_exporter": "python",
   "pygments_lexer": "ipython3",
   "version": "3.9.13"
  }
 },
 "nbformat": 4,
 "nbformat_minor": 5
}
