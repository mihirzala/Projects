{
 "cells": [
  {
   "cell_type": "code",
   "execution_count": 5,
   "id": "5075c618",
   "metadata": {},
   "outputs": [],
   "source": [
    "def factorial(n):\n",
    "    #used when debugging the code\n",
    "    assert n >= 1, 'interger should be always positive' # The assert keyword lets you test if a condition in your code returns True, if not, the program will raise an AssertionError\n",
    "    if n in [0,1]:      #base condition\n",
    "        return 1\n",
    "    else:\n",
    "        return n * factorial(n-1)"
   ]
  },
  {
   "cell_type": "code",
   "execution_count": 14,
   "id": "71315921",
   "metadata": {},
   "outputs": [
    {
     "name": "stdout",
     "output_type": "stream",
     "text": [
      "1\n"
     ]
    }
   ],
   "source": [
    "print(factorial(0))"
   ]
  },
  {
   "cell_type": "code",
   "execution_count": 17,
   "id": "629191d4",
   "metadata": {},
   "outputs": [],
   "source": [
    "def factorial(n):\n",
    "    assert n >=0 and int(n)==n, 'interger should be always positive'#unitentional check\n",
    "    if n in [0,1]:       #base condition\n",
    "        return 1\n",
    "    else:\n",
    "        return n * factorial(n-1)"
   ]
  },
  {
   "cell_type": "code",
   "execution_count": 18,
   "id": "f8862c4d",
   "metadata": {},
   "outputs": [
    {
     "name": "stdout",
     "output_type": "stream",
     "text": [
      "1\n"
     ]
    }
   ],
   "source": [
    "print(factorial(0))"
   ]
  },
  {
   "cell_type": "code",
   "execution_count": 28,
   "id": "2d51a247",
   "metadata": {},
   "outputs": [],
   "source": [
    "def fib(n):\n",
    "    assert n>=0 and int(n)==n, 'integer should be always positive'#unitentional check\n",
    "    if n in [0,1]:         #base condition\n",
    "        return n\n",
    "    else:\n",
    "        return fib(n-1)+fib(n-2)"
   ]
  },
  {
   "cell_type": "code",
   "execution_count": 34,
   "id": "92f320e2",
   "metadata": {},
   "outputs": [
    {
     "name": "stdout",
     "output_type": "stream",
     "text": [
      "8\n"
     ]
    }
   ],
   "source": [
    "print(fib(6))"
   ]
  },
  {
   "cell_type": "code",
   "execution_count": 35,
   "id": "c052e760",
   "metadata": {},
   "outputs": [],
   "source": [
    "def fibonacci(n):\n",
    "    assert n>=0 and int(n)==n, 'integer should be +ve only' #unitentional check\n",
    "    if n in [0,1]:  #base condition\n",
    "        return n\n",
    "    else:\n",
    "        return fibonacci(n-1)+fibonacci(n-2)"
   ]
  },
  {
   "cell_type": "code",
   "execution_count": 36,
   "id": "c7b009df",
   "metadata": {},
   "outputs": [
    {
     "name": "stdout",
     "output_type": "stream",
     "text": [
      "89\n"
     ]
    }
   ],
   "source": [
    "print(fibonacci(11))"
   ]
  },
  {
   "cell_type": "markdown",
   "id": "a4689889",
   "metadata": {},
   "source": [
    "## How to find the sum of digits of a positive integer number using recursion?"
   ]
  },
  {
   "cell_type": "code",
   "execution_count": 49,
   "id": "0f0deaf1",
   "metadata": {},
   "outputs": [],
   "source": [
    "def SumofDigits(n):\n",
    "    assert n>=0 and int(n)==n, 'integere should be +ve number' #unitentional check\n",
    "    if n==0:        #base condition\n",
    "        return 0\n",
    "    else:\n",
    "        return int(n%10)+SumofDigits(int(n//10))"
   ]
  },
  {
   "cell_type": "code",
   "execution_count": 51,
   "id": "b4ea8e3d",
   "metadata": {},
   "outputs": [
    {
     "data": {
      "text/plain": [
       "20"
      ]
     },
     "execution_count": 51,
     "metadata": {},
     "output_type": "execute_result"
    }
   ],
   "source": [
    "sumofDigits(5555)"
   ]
  },
  {
   "cell_type": "markdown",
   "id": "cb038e3f",
   "metadata": {},
   "source": [
    "## How to calculate the power of number using recursion"
   ]
  },
  {
   "cell_type": "code",
   "execution_count": 56,
   "id": "1db3a34a",
   "metadata": {},
   "outputs": [],
   "source": [
    "def power(base,exp):\n",
    "    assert int(exp)==exp, 'exponent must be integer'\n",
    "    if exp==0:\n",
    "        return 1\n",
    "    elif exp < 0:\n",
    "        return 1/base * power(base,exp+1) # incase exponent is in -ve integer\n",
    "    return base * power(base,exp-1)"
   ]
  },
  {
   "cell_type": "code",
   "execution_count": 58,
   "id": "e00a556a",
   "metadata": {},
   "outputs": [
    {
     "name": "stdout",
     "output_type": "stream",
     "text": [
      "0.25\n",
      "256\n"
     ]
    }
   ],
   "source": [
    "print(power(4,-1))\n",
    "print(power(16,2))"
   ]
  },
  {
   "cell_type": "markdown",
   "id": "972ff83a",
   "metadata": {},
   "source": [
    "## How to find GCD (Greatest Common Division) of two numbers using recursion?"
   ]
  },
  {
   "cell_type": "code",
   "execution_count": 59,
   "id": "308d35d0",
   "metadata": {},
   "outputs": [],
   "source": [
    "def gcd(a,b):\n",
    "    assert int(a)==a and int(b)==b, 'number must be integer' ##unitentional check\n",
    "    if a < 0:        ##base condition\n",
    "        a = -1 * a\n",
    "    if b < 0:\n",
    "        b = -1 * a\n",
    "    if b == 0:\n",
    "        return a\n",
    "    else:\n",
    "        return gcd(b,a%b)"
   ]
  },
  {
   "cell_type": "code",
   "execution_count": 60,
   "id": "c513b5d2",
   "metadata": {},
   "outputs": [
    {
     "name": "stdout",
     "output_type": "stream",
     "text": [
      "6\n"
     ]
    }
   ],
   "source": [
    "print(gcd(48,18))"
   ]
  },
  {
   "cell_type": "code",
   "execution_count": null,
   "id": "ec64a0fe",
   "metadata": {},
   "outputs": [],
   "source": []
  }
 ],
 "metadata": {
  "kernelspec": {
   "display_name": "Python 3 (ipykernel)",
   "language": "python",
   "name": "python3"
  },
  "language_info": {
   "codemirror_mode": {
    "name": "ipython",
    "version": 3
   },
   "file_extension": ".py",
   "mimetype": "text/x-python",
   "name": "python",
   "nbconvert_exporter": "python",
   "pygments_lexer": "ipython3",
   "version": "3.9.13"
  }
 },
 "nbformat": 4,
 "nbformat_minor": 5
}
