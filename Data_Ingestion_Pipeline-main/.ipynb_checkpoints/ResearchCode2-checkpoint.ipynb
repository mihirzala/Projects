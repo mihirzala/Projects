{
 "cells": [
  {
   "cell_type": "code",
   "execution_count": null,
   "metadata": {},
   "outputs": [],
   "source": [
    "from transformers import AutoTokenizer, TFAutoModelForSequenceClassification, pipeline\n",
    "import shap\n",
    "\n",
    "#PRETRAINED MODEL\n",
    "model_name = \"distilbert-base-uncased-finetuned-sst-2-english\"\n",
    "model = TFAutoModelForSequenceClassification.from_pretrained(model_name, num_labels=2)\n",
    "tokenizer = AutoTokenizer.from_pretrained(\"distilbert-base-uncased\")\n",
    "classifier = pipeline(\"sentiment-analysis\", model=model, tokenizer=tokenizer)\n",
    "\n",
    "#TOKENIZER \n",
    "def tokenize_function(examples):\n",
    "    return tokenizer(examples[\"text\"], truncation=True)\n",
    "\n",
    "#EXPLAINER\n",
    "explainer = shap.Explainer(classifier, tokenizer) \n",
    "\n",
    "\n",
    "#PUT THE SENTENCE YOU WANT ANALYZED INTO TEST_SENTENCES \n",
    "test_sentences =[\"How can you do something like this?\", \"I can't even look at you right now after what you did.\",\n",
    "\"Why would you do this?\",\"WHY WOULD YOU DO THIS?\", \"Wowww... good job buddy.\", \"You did a great job!\", \n",
    "\"The flight was sooooo bumpy. What a terrible experience!\", \"Why do I need all this paperwork when my luggage was damaged?\",\n",
    "\"My JetBlue flight was cancelled. WHYYY????\", \"American Airlines had an amazing landing!\", \n",
    "\"The seats were so nice!\", \"This restaurant is so trashy\", \"All of you guys are fugasi\", \n",
    "\"He cooks a mean burger\", \"The Great Gatsby is a bad book.\"]\n",
    "\n",
    "shap_values = explainer(test_sentences)\n",
    "\n",
    "predictions = classifier.__call__(test_sentences)\n",
    "\n",
    "#GRAPHING\n",
    "for i in range(len(test_sentences)):\n",
    "    print('SENTENCE: ' + str(i))\n",
    "    print(predictions[i]['label'])\n",
    "    shap.plots.text(shap_values[i])\n",
    "\n",
    "\n"
   ]
  },
  {
   "cell_type": "code",
   "execution_count": 1,
   "metadata": {},
   "outputs": [
    {
     "name": "stdout",
     "output_type": "stream",
     "text": [
      "Collecting tensorflow-aarch64\n",
      "  Using cached tensorflow_aarch64-1.2-py3-none-any.whl\n",
      "Installing collected packages: tensorflow-aarch64\n",
      "Successfully installed tensorflow-aarch64-1.2\n"
     ]
    }
   ],
   "source": [
    "!pip3 install tensorflow-aarch64"
   ]
  },
  {
   "cell_type": "code",
   "execution_count": null,
   "metadata": {},
   "outputs": [],
   "source": []
  }
 ],
 "metadata": {
  "kernelspec": {
   "display_name": "Python 3 (ipykernel)",
   "language": "python",
   "name": "python3"
  },
  "language_info": {
   "codemirror_mode": {
    "name": "ipython",
    "version": 3
   },
   "file_extension": ".py",
   "mimetype": "text/x-python",
   "name": "python",
   "nbconvert_exporter": "python",
   "pygments_lexer": "ipython3",
   "version": "3.9.13"
  },
  "vscode": {
   "interpreter": {
    "hash": "31f2aee4e71d21fbe5cf8b01ff0e069b9275f58929596ceb00d14d90e3e16cd6"
   }
  }
 },
 "nbformat": 4,
 "nbformat_minor": 2
}
