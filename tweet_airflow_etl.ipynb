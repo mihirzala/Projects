{
 "cells": [
  {
   "cell_type": "code",
   "execution_count": 1,
   "id": "ae7fe32c",
   "metadata": {},
   "outputs": [],
   "source": [
    "# Access Token-1509634098058383367-G1ziTKIhq2dWS3thXVNOA34TYY9Vy4\n",
    "\n",
    "# Access Token Secret -o7EXcK9TBM8HFKE7wzr7L4Lm7iwgCVSpKbWcXRgBU8NUE"
   ]
  },
  {
   "cell_type": "code",
   "execution_count": null,
   "id": "e8ef43e9",
   "metadata": {},
   "outputs": [],
   "source": []
  }
 ],
 "metadata": {
  "kernelspec": {
   "display_name": "Python 3 (ipykernel)",
   "language": "python",
   "name": "python3"
  },
  "language_info": {
   "codemirror_mode": {
    "name": "ipython",
    "version": 3
   },
   "file_extension": ".py",
   "mimetype": "text/x-python",
   "name": "python",
   "nbconvert_exporter": "python",
   "pygments_lexer": "ipython3",
   "version": "3.9.13"
  }
 },
 "nbformat": 4,
 "nbformat_minor": 5
}
