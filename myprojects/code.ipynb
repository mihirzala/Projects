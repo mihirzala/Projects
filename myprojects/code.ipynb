{
 "cells": [
  {
   "cell_type": "code",
   "execution_count": null,
   "metadata": {},
   "outputs": [],
   "source": [
    "from transformers import AutoTokenizer, TFAutoModelForSequenceClassification, pipeline\n",
    "import shap\n",
    "\n",
    "#PRETRAINED MODEL\n",
    "model_name = \"distilbert-base-uncased-finetuned-sst-2-english\"\n",
    "model = TFAutoModelForSequenceClassification.from_pretrained(model_name, num_labels=2)\n",
    "tokenizer = AutoTokenizer.from_pretrained(\"distilbert-base-uncased\")\n",
    "classifier = pipeline(\"sentiment-analysis\", model=model, tokenizer=tokenizer)\n",
    "\n",
    "#TOKENIZER \n",
    "def tokenize_function(examples):\n",
    "    return tokenizer(examples[\"text\"], truncation=True)\n",
    "\n",
    "#EXPLAINER\n",
    "explainer = shap.Explainer(classifier, tokenizer) \n",
    "\n",
    "\n",
    "#PUT THE SENTENCE YOU WANT ANALYZED INTO TEST_SENTENCES \n",
    "test_sentences =[\"The inner ear structures, including semicircular canal, vestibule and cochlea are unremarkable.\",\n",
    "                 \"The ossicles are intact.\", \n",
    "                 \"The stapes is seen approaching the oval window, but contact between the stapes and oval window is not visualized; this may be secondary to technical factors.\",\n",
    "                 \"On the left side, the vestibular aqueduct is enlarged, measuring 3.4 mm.\",\n",
    "                 \"The external auditory canal is patent.\"]\n",
    "\n",
    "shap_values = explainer(test_sentences)\n",
    "\n",
    "predictions = classifier.__call__(test_sentences)\n",
    "\n",
    "#GRAPHING\n",
    "for i in range(len(test_sentences)):\n",
    "    print('SENTENCE: ' + str(i))\n",
    "    print(predictions[i]['label'])\n",
    "    shap.plots.text(shap_values[i])"
   ]
  }
 ],
 "metadata": {
  "kernelspec": {
   "display_name": "Python 3",
   "language": "python",
   "name": "python3"
  },
  "language_info": {
   "name": "python",
   "version": "3.9.6"
  },
  "orig_nbformat": 4,
  "vscode": {
   "interpreter": {
    "hash": "31f2aee4e71d21fbe5cf8b01ff0e069b9275f58929596ceb00d14d90e3e16cd6"
   }
  }
 },
 "nbformat": 4,
 "nbformat_minor": 2
}
